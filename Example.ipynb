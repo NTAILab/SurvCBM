{
 "cells": [
  {
   "cell_type": "markdown",
   "metadata": {},
   "source": [
    "## This is an example of the Survival Concept-based Bottleneck Model usage\n",
    "\n",
    "Let's start with the survival regression task. We will generate data based on the MNIST dataset and Weibull distribution."
   ]
  },
  {
   "cell_type": "code",
   "execution_count": 2,
   "metadata": {},
   "outputs": [],
   "source": [
    "from pkg.datasets import get_4mnist_ds, get_proc_mnist_np\n",
    "from pkg.utility import get_str_array\n",
    "from sklearn.model_selection import train_test_split\n",
    "import numpy as np\n",
    "\n",
    "n = 3000\n",
    "uncens_part = 0.33\n",
    "l = 1e-3\n",
    "nu = 10\n",
    "seed = None\n",
    "b = -10 * np.asarray([0] * 10 + [1, 1] + [0] * 8 + [1, 1, 1] + [0] * 7 + [1, 1, 1, 1] + [0] * 6)\n",
    "X, t, d, c = get_4mnist_ds(*get_proc_mnist_np(), n, uncens_part, l, nu, b,\n",
    "                           seed, f_use_one_hot=True)\n",
    "y = get_str_array(t, d)\n",
    "X_train, X_test, y_train, y_test, c_train, c_test = train_test_split(X, y, c, test_size=0.4)\n",
    "X_train, X_val, y_train, y_val, c_train, c_val = train_test_split(X_train, y_train, c_train,\n",
    "                                                                  test_size=0.33)\n",
    "train_set = (X_train, y_train, c_train)\n",
    "val_set = (X_val, y_val, c_val)"
   ]
  },
  {
   "cell_type": "markdown",
   "metadata": {},
   "source": [
    "We can look at the time distribution we have just generated"
   ]
  },
  {
   "cell_type": "code",
   "execution_count": 3,
   "metadata": {},
   "outputs": [
    {
     "data": {
      "image/png": "[encoded data removed]",
      "text/plain": [
       "<Figure size 640x480 with 1 Axes>"
      ]
     },
     "metadata": {},
     "output_type": "display_data"
    }
   ],
   "source": [
    "import matplotlib.pyplot as plt\n",
    "\n",
    "_ = plt.hist(t, 100, density=True)"
   ]
  },
  {
   "cell_type": "markdown",
   "metadata": {},
   "source": [
    "And an example of the data point"
   ]
  },
  {
   "cell_type": "code",
   "execution_count": 5,
   "metadata": {},
   "outputs": [
    {
     "data": {
      "image/png": "[encoded data removed]",
      "text/plain": [
       "<Figure size 640x480 with 1 Axes>"
      ]
     },
     "metadata": {},
     "output_type": "display_data"
    }
   ],
   "source": [
    "plt.imshow(X[0, 0], 'grey')\n",
    "plt.xlabel('concepts: ' + str(c[0]));"
   ]
  },
  {
   "cell_type": "markdown",
   "metadata": {},
   "source": [
    "Now let's import the Survival Bottleneck model and train it on the data. We will use Beran estimator as the survival estimator."
   ]
  },
  {
   "cell_type": "code",
   "execution_count": null,
   "metadata": {},
   "outputs": [
    {
     "name": "stderr",
     "output_type": "stream",
     "text": [
      "Epoch 1: 100%|##########| 64/64 [00:29<00:00,  2.18task/s, Loss=0.339, Surv=0.67, CE=[1.0109375, 1.1523437499999998, 1.0390625000000002, 1.1789062499999998]]          \n"
     ]
    },
    {
     "name": "stdout",
     "output_type": "stream",
     "text": [
      "Val C-index: 0.75043, patience: 0\n"
     ]
    },
    {
     "name": "stderr",
     "output_type": "stream",
     "text": [
      "Epoch 2: 100%|##########| 64/64 [00:29<00:00,  2.14task/s, Loss=-0.488, Surv=0.763, CE=[0.12343749999999976, 0.1531250000000001, 0.14921875, 0.15937500000000002]]          \n"
     ]
    },
    {
     "name": "stdout",
     "output_type": "stream",
     "text": [
      "Val C-index: 0.75231, patience: 0\n"
     ]
    },
    {
     "name": "stderr",
     "output_type": "stream",
     "text": [
      "Epoch 3: 100%|##########| 64/64 [00:30<00:00,  2.08task/s, Loss=-0.596, Surv=0.775, CE=[0.012500000000000002, 0.011718750000000002, 0.028906250000000012, 0.020312500000000008]]\n"
     ]
    },
    {
     "name": "stdout",
     "output_type": "stream",
     "text": [
      "Val C-index: 0.75309, patience: 0\n",
      "Training time: 92.1 s.\n"
     ]
    },
    {
     "data": {},
     "execution_count": 7,
     "metadata": {},
     "output_type": "execute_result"
    }
   ],
   "source": [
    "import torch\n",
    "from pkg.model import SurvBN\n",
    "from sklearn.metrics import accuracy_score\n",
    "\n",
    "params = {\n",
    "    'surv_model': 'beran',\n",
    "    'surv_loss': 'c_index',\n",
    "    'beran_metric': 'l2',\n",
    "    'sigma_temp': 1,\n",
    "    'alpha': 0.8,\n",
    "    'batch_num': 64,\n",
    "    'train_bg_part': 0.5,\n",
    "    'nn_model': torch.nn.Sequential(\n",
    "            torch.nn.Conv2d(1, 16, (16, 16), stride=1),\n",
    "            torch.nn.LeakyReLU(),\n",
    "            torch.nn.Conv2d(16, 16, (8, 8), stride=2),\n",
    "            torch.nn.LeakyReLU(),\n",
    "            torch.nn.Conv2d(16, 32, (6, 6), stride=2),\n",
    "            torch.nn.LeakyReLU(),\n",
    "            torch.nn.Conv2d(32, 32, (4, 4), stride=1),\n",
    "            torch.nn.LeakyReLU(),\n",
    "            torch.nn.Flatten(),\n",
    "            torch.nn.Linear(288, 256),\n",
    "        ),\n",
    "    'nn_model_out_dim': 256,\n",
    "    'device': 'mps',\n",
    "    'epochs': 3,\n",
    "    'patience': 3,\n",
    "    'optimizer': 'AdamW',\n",
    "    'optimizer_kw': {'lr': 1e-3, 'weight_decay': 1e-3},\n",
    "}\n",
    "model = SurvBN(**params)\n",
    "model.fit(*train_set, val_set);"
   ]
  },
  {
   "cell_type": "markdown",
   "metadata": {},
   "source": [
    "Let's estimate metrics for our model. Take in account that we were using not many epochs and didn't select parameters for the example's clarity."
   ]
  },
  {
   "cell_type": "code",
   "execution_count": 8,
   "metadata": {},
   "outputs": [
    {
     "name": "stdout",
     "output_type": "stream",
     "text": [
      "C-index of the model: 0.7669633179013909\n",
      "Accuracy for concept 0: 0.8958333333333334\n",
      "Accuracy for concept 1: 0.8791666666666667\n",
      "Accuracy for concept 2: 0.8041666666666667\n",
      "Accuracy for concept 3: 0.8775\n"
     ]
    }
   ],
   "source": [
    "print('C-index of the model:', model.score(X_test, y_test))\n",
    "_, c_probas = model.predict(X_test)\n",
    "c_labels_list = []\n",
    "for i, c in enumerate(c_probas):\n",
    "    c_labels_cur = np.argmax(c, axis=-1)\n",
    "    print(f'Accuracy for concept {i}:', accuracy_score(c_test[:, i], c_labels_cur))\n",
    "    c_labels_list.append(c_labels_cur)\n",
    "c_labels = np.stack(c_labels_list, axis=-1)"
   ]
  },
  {
   "cell_type": "markdown",
   "metadata": {},
   "source": [
    "Now let's explain some prediction using the Survival Bottleneck and Beran estimator."
   ]
  },
  {
   "cell_type": "code",
   "execution_count": 9,
   "metadata": {},
   "outputs": [],
   "source": [
    "# helper functions\n",
    "\n",
    "def swap_ch(img):\n",
    "    return img.swapaxes(0, 1).swapaxes(1, 2)\n",
    "\n",
    "def draw_importance(X, C, I, cards, b_mask, cmap):\n",
    "    def get_formatted_labels(labels, imp_mask):\n",
    "        str_list = []\n",
    "        for i in range(len(labels)):\n",
    "            if imp_mask[i]:\n",
    "                str_list.append(rf\"$\\bf{{{labels[i]}}}$\")\n",
    "            else:\n",
    "                str_list.append(f\"{labels[i]}\")\n",
    "        return \"[\" + \",\".join(str_list) + \"]\"\n",
    "        \n",
    "    C_oh = np.zeros(np.sum(cards))\n",
    "    counter = 0\n",
    "    for i, c in enumerate(cards):\n",
    "        E = np.eye(c, dtype=np.int64)\n",
    "        C_oh[counter: counter + c] = E[C[i]]\n",
    "        counter += c\n",
    "    f_important_mask = C_oh * b_mask\n",
    "    counter = 0\n",
    "    imp_final_mask = np.zeros(len(cards), dtype=bool)\n",
    "    for i, c in enumerate(cards):\n",
    "        imp_final_mask[i] = np.sum(f_important_mask[counter:counter + c]) > 0\n",
    "        counter += c\n",
    "\n",
    "    per_subplot_kw = { \n",
    "        'original': {\n",
    "            'frame_on': False,\n",
    "            'xticks': [],\n",
    "            'yticks': [],\n",
    "            'title': 'Example',\n",
    "            'xlabel': get_formatted_labels(C, imp_final_mask),\n",
    "        },\n",
    "        'importance': {\n",
    "            'title': 'Concepts importance',\n",
    "            'ylabel': 'Importance score',\n",
    "        }\n",
    "    }\n",
    "    fig, axes = plt.subplot_mosaic([['.', '.'], ['original', 'importance'], ['.', '.']], per_subplot_kw=per_subplot_kw, figsize=(10, 10), dpi=150,\n",
    "                                  width_ratios=[1, 2], height_ratios=[1, 1, 1])\n",
    "    axes['original'].imshow(swap_ch(X), cmap=cmap)\n",
    "    axes['importance'].bar([f'$c_{i}$' for i in range(1, I.shape[0] + 1)], I, zorder=100)\n",
    "    axes['importance'].grid(zorder=-100)\n",
    "    fig.set_layout_engine('tight')"
   ]
  },
  {
   "cell_type": "markdown",
   "metadata": {},
   "source": [
    "The important outcome (according to the vector `b` of the Weibull distribution parameters) is marked as bold under the picture."
   ]
  },
  {
   "cell_type": "code",
   "execution_count": 23,
   "metadata": {},
   "outputs": [
    {
     "data": {
      "image/png": "[encoded data removed]",
      "text/plain": [
       "<Figure size 1500x1500 with 2 Axes>"
      ]
     },
     "metadata": {},
     "output_type": "display_data"
    }
   ],
   "source": [
    "importance = model.get_importance(X_test, top_k=40)\n",
    "cmap = 'grey'\n",
    "test_id = 0\n",
    "draw_importance(X_test[test_id],\n",
    "                c_labels[test_id],\n",
    "                importance[test_id],\n",
    "                model.c_cards,\n",
    "                b < 0,\n",
    "                cmap)"
   ]
  },
  {
   "cell_type": "markdown",
   "metadata": {},
   "source": [
    "Now let's do the same using the Cox estimator."
   ]
  },
  {
   "cell_type": "code",
   "execution_count": 32,
   "metadata": {},
   "outputs": [
    {
     "name": "stderr",
     "output_type": "stream",
     "text": [
      "Epoch 1: 100%|##########| 19/19 [00:00<00:00, 20.13task/s, Loss=28.7, Surv=-107, CE=[2.173684210526316, 2.289473684210526, 2.2684210526315796, 2.2999999999999994]]  \n"
     ]
    },
    {
     "name": "stdout",
     "output_type": "stream",
     "text": [
      "Val C-index: 0.49361, patience: 0\n"
     ]
    },
    {
     "name": "stderr",
     "output_type": "stream",
     "text": [
      "Epoch 2: 100%|##########| 19/19 [00:00<00:00, 21.74task/s, Loss=26.2, Surv=-107, CE=[1.1210526315789473, 1.636842105263158, 1.5947368421052632, 1.8]]                \n"
     ]
    },
    {
     "name": "stdout",
     "output_type": "stream",
     "text": [
      "Val C-index: 0.51707, patience: 0\n"
     ]
    },
    {
     "name": "stderr",
     "output_type": "stream",
     "text": [
      "Epoch 3: 100%|##########| 19/19 [00:00<00:00, 21.77task/s, Loss=24.5, Surv=-107, CE=[0.7684210526315789, 1.0421052631578949, 0.994736842105263, 1.105263157894737]]  \n"
     ]
    },
    {
     "name": "stdout",
     "output_type": "stream",
     "text": [
      "Val C-index: 0.54393, patience: 0\n"
     ]
    },
    {
     "name": "stderr",
     "output_type": "stream",
     "text": [
      "Epoch 4: 100%|##########| 19/19 [00:00<00:00, 21.75task/s, Loss=23.5, Surv=-106, CE=[0.5789473684210527, 0.7736842105263158, 0.6473684210526315, 0.8263157894736842]]\n"
     ]
    },
    {
     "name": "stdout",
     "output_type": "stream",
     "text": [
      "Val C-index: 0.55549, patience: 0\n"
     ]
    },
    {
     "name": "stderr",
     "output_type": "stream",
     "text": [
      "Epoch 5: 100%|##########| 19/19 [00:00<00:00, 21.21task/s, Loss=22.8, Surv=-105, CE=[0.49473684210526325, 0.563157894736842, 0.4526315789473684, 0.6578947368421051]]\n"
     ]
    },
    {
     "name": "stdout",
     "output_type": "stream",
     "text": [
      "Val C-index: 0.59324, patience: 0\n"
     ]
    },
    {
     "name": "stderr",
     "output_type": "stream",
     "text": [
      "Epoch 6: 100%|##########| 19/19 [00:00<00:00, 21.42task/s, Loss=22.5, Surv=-105, CE=[0.3736842105263158, 0.4842105263157894, 0.37894736842105264, 0.5473684210526316]] \n"
     ]
    },
    {
     "name": "stdout",
     "output_type": "stream",
     "text": [
      "Val C-index: 0.62799, patience: 0\n"
     ]
    },
    {
     "name": "stderr",
     "output_type": "stream",
     "text": [
      "Epoch 7: 100%|##########| 19/19 [00:00<00:00, 21.20task/s, Loss=22.1, Surv=-105, CE=[0.27894736842105256, 0.3736842105263158, 0.3157894736842106, 0.4842105263157894]]  \n"
     ]
    },
    {
     "name": "stdout",
     "output_type": "stream",
     "text": [
      "Val C-index: 0.65461, patience: 0\n"
     ]
    },
    {
     "name": "stderr",
     "output_type": "stream",
     "text": [
      "Epoch 8: 100%|##########| 19/19 [00:00<00:00, 21.76task/s, Loss=21.7, Surv=-104, CE=[0.23684210526315794, 0.28421052631578947, 0.24210526315789477, 0.3842105263157894]]\n"
     ]
    },
    {
     "name": "stdout",
     "output_type": "stream",
     "text": [
      "Val C-index: 0.67901, patience: 0\n"
     ]
    },
    {
     "name": "stderr",
     "output_type": "stream",
     "text": [
      "Epoch 9: 100%|##########| 19/19 [00:00<00:00, 21.81task/s, Loss=21.5, Surv=-103, CE=[0.20526315789473687, 0.23684210526315794, 0.2210526315789474, 0.3368421052631579]]  \n"
     ]
    },
    {
     "name": "stdout",
     "output_type": "stream",
     "text": [
      "Val C-index: 0.70245, patience: 0\n"
     ]
    },
    {
     "name": "stderr",
     "output_type": "stream",
     "text": [
      "Epoch 10: 100%|##########| 19/19 [00:00<00:00, 21.43task/s, Loss=21.2, Surv=-103, CE=[0.1842105263157895, 0.20526315789473687, 0.17894736842105266, 0.268421052631579]]   \n"
     ]
    },
    {
     "name": "stdout",
     "output_type": "stream",
     "text": [
      "Val C-index: 0.71882, patience: 0\n"
     ]
    },
    {
     "name": "stderr",
     "output_type": "stream",
     "text": [
      "Epoch 11: 100%|##########| 19/19 [00:00<00:00, 21.74task/s, Loss=20.9, Surv=-102, CE=[0.10526315789473686, 0.18947368421052638, 0.15789473684210528, 0.25263157894736843]]\n"
     ]
    },
    {
     "name": "stdout",
     "output_type": "stream",
     "text": [
      "Val C-index: 0.72492, patience: 0\n"
     ]
    },
    {
     "name": "stderr",
     "output_type": "stream",
     "text": [
      "Epoch 12: 100%|##########| 19/19 [00:00<00:00, 21.14task/s, Loss=20.8, Surv=-102, CE=[0.07894736842105264, 0.168421052631579, 0.13684210526315796, 0.19473684210526324]]  \n"
     ]
    },
    {
     "name": "stdout",
     "output_type": "stream",
     "text": [
      "Val C-index: 0.74815, patience: 0\n"
     ]
    },
    {
     "name": "stderr",
     "output_type": "stream",
     "text": [
      "Epoch 13: 100%|##########| 19/19 [00:00<00:00, 21.67task/s, Loss=20.5, Surv=-101, CE=[0.0736842105263158, 0.12631578947368424, 0.09473684210526317, 0.17368421052631583]]  \n"
     ]
    },
    {
     "name": "stdout",
     "output_type": "stream",
     "text": [
      "Val C-index: 0.74839, patience: 0\n"
     ]
    },
    {
     "name": "stderr",
     "output_type": "stream",
     "text": [
      "Epoch 14: 100%|##########| 19/19 [00:00<00:00, 21.68task/s, Loss=20.3, Surv=-100, CE=[0.03684210526315789, 0.08421052631578947, 0.07894736842105264, 0.15263157894736845]] \n"
     ]
    },
    {
     "name": "stdout",
     "output_type": "stream",
     "text": [
      "Val C-index: 0.75396, patience: 0\n"
     ]
    },
    {
     "name": "stderr",
     "output_type": "stream",
     "text": [
      "Epoch 15: 100%|##########| 19/19 [00:00<00:00, 21.74task/s, Loss=20.3, Surv=-100, CE=[0.057894736842105256, 0.10526315789473684, 0.06315789473684212, 0.15263157894736842]]\n"
     ]
    },
    {
     "name": "stdout",
     "output_type": "stream",
     "text": [
      "Val C-index: 0.76799, patience: 0\n"
     ]
    },
    {
     "name": "stderr",
     "output_type": "stream",
     "text": [
      "Epoch 16: 100%|##########| 19/19 [00:00<00:00, 21.71task/s, Loss=20.1, Surv=-99, CE=[0.08421052631578947, 0.10526315789473686, 0.07894736842105264, 0.14736842105263162]] \n"
     ]
    },
    {
     "name": "stdout",
     "output_type": "stream",
     "text": [
      "Val C-index: 0.77428, patience: 0\n"
     ]
    },
    {
     "name": "stderr",
     "output_type": "stream",
     "text": [
      "Epoch 17: 100%|##########| 19/19 [00:00<00:00, 21.76task/s, Loss=20, Surv=-98.4, CE=[0.08421052631578949, 0.10526315789473684, 0.08421052631578949, 0.12105263157894738]] \n"
     ]
    },
    {
     "name": "stdout",
     "output_type": "stream",
     "text": [
      "Val C-index: 0.78073, patience: 0\n"
     ]
    },
    {
     "name": "stderr",
     "output_type": "stream",
     "text": [
      "Epoch 18: 100%|##########| 19/19 [00:00<00:00, 21.72task/s, Loss=19.9, Surv=-98.1, CE=[0.06315789473684211, 0.10526315789473686, 0.09473684210526317, 0.1315789473684211]]  \n"
     ]
    },
    {
     "name": "stdout",
     "output_type": "stream",
     "text": [
      "Val C-index: 0.77719, patience: 1\n"
     ]
    },
    {
     "name": "stderr",
     "output_type": "stream",
     "text": [
      "Epoch 19: 100%|##########| 19/19 [00:00<00:00, 20.96task/s, Loss=19.7, Surv=-97.1, CE=[0.047368421052631574, 0.09473684210526317, 0.0736842105263158, 0.10526315789473686]]\n"
     ]
    },
    {
     "name": "stdout",
     "output_type": "stream",
     "text": [
      "Val C-index: 0.77958, patience: 2\n"
     ]
    },
    {
     "name": "stderr",
     "output_type": "stream",
     "text": [
      "Epoch 20: 100%|##########| 19/19 [00:00<00:00, 21.57task/s, Loss=19.6, Surv=-96.8, CE=[0.1, 0.06842105263157897, 0.0736842105263158, 0.06315789473684211]]                 \n"
     ]
    },
    {
     "name": "stdout",
     "output_type": "stream",
     "text": [
      "Val C-index: 0.78635, patience: 0\n",
      "Training time: 19.3 s.\n"
     ]
    }
   ],
   "source": [
    "params = {\n",
    "    'surv_model': 'cox',\n",
    "    'surv_loss': 'likelihood',\n",
    "    'alpha': 0.2,\n",
    "    'batch_num': 64,\n",
    "    'train_bg_part': 0.5,\n",
    "    'nn_model': torch.nn.Sequential(\n",
    "            torch.nn.Conv2d(1, 16, (16, 16), stride=1),\n",
    "            torch.nn.LeakyReLU(),\n",
    "            torch.nn.Conv2d(16, 16, (8, 8), stride=2),\n",
    "            torch.nn.LeakyReLU(),\n",
    "            torch.nn.Conv2d(16, 32, (6, 6), stride=2),\n",
    "            torch.nn.LeakyReLU(),\n",
    "            torch.nn.Conv2d(32, 32, (4, 4), stride=1),\n",
    "            torch.nn.LeakyReLU(),\n",
    "            torch.nn.Flatten(),\n",
    "            torch.nn.Linear(288, 256),\n",
    "        ),\n",
    "    'nn_model_out_dim': 256,\n",
    "    'device': 'mps',\n",
    "    'epochs': 20,\n",
    "    'patience': 10,\n",
    "    'optimizer': 'AdamW',\n",
    "    'optimizer_kw': {'lr': 1e-3, 'weight_decay': 0},\n",
    "}\n",
    "model = SurvBN(**params)\n",
    "model.fit(*train_set, val_set);"
   ]
  },
  {
   "cell_type": "code",
   "execution_count": 33,
   "metadata": {},
   "outputs": [
    {
     "name": "stdout",
     "output_type": "stream",
     "text": [
      "C-index of the model: 0.7553766981046063\n",
      "Accuracy for concept 0: 0.8675\n",
      "Accuracy for concept 1: 0.8933333333333333\n",
      "Accuracy for concept 2: 0.875\n",
      "Accuracy for concept 3: 0.8875\n"
     ]
    }
   ],
   "source": [
    "print('C-index of the model:', model.score(X_test, y_test))\n",
    "_, c_probas = model.predict(X_test)\n",
    "c_labels_list = []\n",
    "for i, c in enumerate(c_probas):\n",
    "    c_labels_cur = np.argmax(c, axis=-1)\n",
    "    print(f'Accuracy for concept {i}:', accuracy_score(c_test[:, i], c_labels_cur))\n",
    "    c_labels_list.append(c_labels_cur)\n",
    "c_labels = np.stack(c_labels_list, axis=-1)"
   ]
  },
  {
   "cell_type": "code",
   "execution_count": null,
   "metadata": {},
   "outputs": [
    {
     "data": {
      "image/png": "[encoded data removed]",
      "text/plain": [
       "<Figure size 1500x1500 with 2 Axes>"
      ]
     },
     "metadata": {},
     "output_type": "display_data"
    }
   ],
   "source": [
    "importance = model.get_importance(X_test)\n",
    "cmap = 'grey'\n",
    "test_id = 0\n",
    "draw_importance(X_test[test_id],\n",
    "                c_labels[test_id],\n",
    "                importance[test_id],\n",
    "                model.c_cards,\n",
    "                b < 0,\n",
    "                cmap)"
   ]
  },
  {
   "cell_type": "markdown",
   "metadata": {},
   "source": [
    "Another model, Survival Regularized Concept-based Model, has similar interface and is able to do only the survival regression task, without the explanation. "
   ]
  }
 ],
 "metadata": {
  "kernelspec": {
   "display_name": "default",
   "language": "python",
   "name": "python3"
  },
  "language_info": {
   "codemirror_mode": {
    "name": "ipython",
    "version": 3
   },
   "file_extension": ".py",
   "mimetype": "text/x-python",
   "name": "python",
   "nbconvert_exporter": "python",
   "pygments_lexer": "ipython3",
   "version": "3.13.2"
  }
 },
 "nbformat": 4,
 "nbformat_minor": 2
}
