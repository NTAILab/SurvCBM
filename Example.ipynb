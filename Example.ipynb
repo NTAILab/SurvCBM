{
 "cells": [
  {
   "cell_type": "markdown",
   "metadata": {},
   "source": [
    "## This is an example of the Survival Concept-based Bottleneck Model usage\n",
    "\n",
    "Let's start with the survival regression task. We will generate data based on the MNIST dataset and Weibull distribution."
   ]
  },
  {
   "cell_type": "code",
   "execution_count": 1,
   "metadata": {},
   "outputs": [],
   "source": [
    "from pkg.datasets import get_4mnist_ds, get_proc_mnist_np\n",
    "from pkg.utility import get_str_array\n",
    "from sklearn.model_selection import train_test_split\n",
    "import numpy as np\n",
    "\n",
    "n = 3000\n",
    "uncens_part = 0.33\n",
    "l = 1e-3\n",
    "nu = 10\n",
    "seed = None\n",
    "b = -10 * np.asarray([0] * 10 + [1, 1] + [0] * 8 + [1, 1, 1] + [0] * 7 + [1, 1, 1, 1] + [0] * 6)\n",
    "X, t, d, c = get_4mnist_ds(*get_proc_mnist_np(), n, uncens_part, l, nu, b,\n",
    "                           seed, f_use_one_hot=True)\n",
    "y = get_str_array(t, d)\n",
    "X_train, X_test, y_train, y_test, c_train, c_test = train_test_split(X, y, c, test_size=0.4)\n",
    "X_train, X_val, y_train, y_val, c_train, c_val = train_test_split(X_train, y_train, c_train,\n",
    "                                                                  test_size=0.33)\n",
    "train_set = (X_train, y_train, c_train)\n",
    "val_set = (X_val, y_val, c_val)"
   ]
  },
  {
   "cell_type": "markdown",
   "metadata": {},
   "source": [
    "We can look at the time distribution we have just generated"
   ]
  },
  {
   "cell_type": "code",
   "execution_count": 2,
   "metadata": {},
   "outputs": [
    {
     "data": {
      "image/png": "[encoded data removed]",
      "text/plain": [
       "<Figure size 640x480 with 1 Axes>"
      ]
     },
     "metadata": {},
     "output_type": "display_data"
    }
   ],
   "source": [
    "import matplotlib.pyplot as plt\n",
    "\n",
    "_ = plt.hist(t, 100, density=True)"
   ]
  },
  {
   "cell_type": "markdown",
   "metadata": {},
   "source": [
    "And an example of the data point"
   ]
  },
  {
   "cell_type": "code",
   "execution_count": 3,
   "metadata": {},
   "outputs": [
    {
     "data": {
      "image/png": "[encoded data removed]",
      "text/plain": [
       "<Figure size 640x480 with 1 Axes>"
      ]
     },
     "metadata": {},
     "output_type": "display_data"
    }
   ],
   "source": [
    "plt.imshow(X[0, 0], 'grey')\n",
    "plt.xlabel('concepts: ' + str(c[0]));"
   ]
  },
  {
   "cell_type": "markdown",
   "metadata": {},
   "source": [
    "Now let's import the Survival Bottleneck model and train it on the data. We will use Beran estimator as the survival estimator."
   ]
  },
  {
   "cell_type": "code",
   "execution_count": 4,
   "metadata": {},
   "outputs": [
    {
     "name": "stderr",
     "output_type": "stream",
     "text": [
      "Epoch 1: 100%|##########| 64/64 [00:29<00:00,  2.18task/s, Loss=0.339, Surv=0.67, CE=[1.0109375, 1.1523437499999998, 1.0390625000000002, 1.1789062499999998]]          \n"
     ]
    },
    {
     "name": "stdout",
     "output_type": "stream",
     "text": [
      "Val C-index: 0.75043, patience: 0\n"
     ]
    },
    {
     "name": "stderr",
     "output_type": "stream",
     "text": [
      "Epoch 2: 100%|##########| 64/64 [00:29<00:00,  2.14task/s, Loss=-0.488, Surv=0.763, CE=[0.12343749999999976, 0.1531250000000001, 0.14921875, 0.15937500000000002]]          \n"
     ]
    },
    {
     "name": "stdout",
     "output_type": "stream",
     "text": [
      "Val C-index: 0.75231, patience: 0\n"
     ]
    },
    {
     "name": "stderr",
     "output_type": "stream",
     "text": [
      "Epoch 3: 100%|##########| 64/64 [00:30<00:00,  2.08task/s, Loss=-0.596, Surv=0.775, CE=[0.012500000000000002, 0.011718750000000002, 0.028906250000000012, 0.020312500000000008]]\n"
     ]
    },
    {
     "name": "stdout",
     "output_type": "stream",
     "text": [
      "Val C-index: 0.75309, patience: 0\n",
      "Training time: 92.1 s.\n"
     ]
    },
    {
     "data": {},
     "execution_count": 5,
     "metadata": {},
     "output_type": "execute_result"
    }
   ],
   "source": [
    "import torch\n",
    "from pkg.model import SurvBN\n",
    "from sklearn.metrics import accuracy_score\n",
    "\n",
    "params = {\n",
    "    'surv_model': 'beran',\n",
    "    'surv_loss': 'c_index',\n",
    "    'beran_metric': 'l2',\n",
    "    'sigma_temp': 1,\n",
    "    'alpha': 0.8,\n",
    "    'batch_num': 64,\n",
    "    'train_bg_part': 0.5,\n",
    "    'nn_model': torch.nn.Sequential(\n",
    "            torch.nn.Conv2d(1, 16, (16, 16), stride=1),\n",
    "            torch.nn.LeakyReLU(),\n",
    "            torch.nn.Conv2d(16, 16, (8, 8), stride=2),\n",
    "            torch.nn.LeakyReLU(),\n",
    "            torch.nn.Conv2d(16, 32, (6, 6), stride=2),\n",
    "            torch.nn.LeakyReLU(),\n",
    "            torch.nn.Conv2d(32, 32, (4, 4), stride=1),\n",
    "            torch.nn.LeakyReLU(),\n",
    "            torch.nn.Flatten(),\n",
    "            torch.nn.Linear(288, 256),\n",
    "        ),\n",
    "    'nn_model_out_dim': 256,\n",
    "    'device': 'mps',\n",
    "    'epochs': 3,\n",
    "    'patience': 3,\n",
    "    'optimizer': 'AdamW',\n",
    "    'optimizer_kw': {'lr': 1e-3, 'weight_decay': 1e-3},\n",
    "}\n",
    "model = SurvBN(**params)\n",
    "model.fit(*train_set, val_set);"
   ]
  },
  {
   "cell_type": "markdown",
   "metadata": {},
   "source": [
    "Let's estimate metrics for our model. Take in account that we were using not many epochs and didn't select parameters for the example's clarity."
   ]
  },
  {
   "cell_type": "code",
   "execution_count": 5,
   "metadata": {},
   "outputs": [
    {
     "name": "stdout",
     "output_type": "stream",
     "text": [
      "C-index of the model: 0.7669633179013909\n",
      "Accuracy for concept 0: 0.8958333333333334\n",
      "Accuracy for concept 1: 0.8791666666666667\n",
      "Accuracy for concept 2: 0.8041666666666667\n",
      "Accuracy for concept 3: 0.8775\n"
     ]
    }
   ],
   "source": [
    "print('C-index of the model:', model.score(X_test, y_test))\n",
    "_, c_probas = model.predict(X_test)\n",
    "c_labels_list = []\n",
    "for i, c in enumerate(c_probas):\n",
    "    c_labels_cur = np.argmax(c, axis=-1)\n",
    "    print(f'Accuracy for concept {i}:', accuracy_score(c_test[:, i], c_labels_cur))\n",
    "    c_labels_list.append(c_labels_cur)\n",
    "c_labels = np.stack(c_labels_list, axis=-1)"
   ]
  },
  {
   "cell_type": "markdown",
   "metadata": {},
   "source": [
    "Now let's explain some prediction using the Survival Bottleneck and Beran estimator."
   ]
  },
  {
   "cell_type": "code",
   "execution_count": 6,
   "metadata": {},
   "outputs": [],
   "source": [
    "# helper functions\n",
    "\n",
    "def swap_ch(img):\n",
    "    return img.swapaxes(0, 1).swapaxes(1, 2)\n",
    "\n",
    "def draw_importance(X, C, I, cards, b_mask, cmap):\n",
    "    def get_formatted_labels(labels, imp_mask):\n",
    "        str_list = []\n",
    "        for i in range(len(labels)):\n",
    "            if imp_mask[i]:\n",
    "                str_list.append(rf\"$\\bf{{{labels[i]}}}$\")\n",
    "            else:\n",
    "                str_list.append(f\"{labels[i]}\")\n",
    "        return \"[\" + \",\".join(str_list) + \"]\"\n",
    "        \n",
    "    C_oh = np.zeros(np.sum(cards))\n",
    "    counter = 0\n",
    "    for i, c in enumerate(cards):\n",
    "        E = np.eye(c, dtype=np.int64)\n",
    "        C_oh[counter: counter + c] = E[C[i]]\n",
    "        counter += c\n",
    "    f_important_mask = C_oh * b_mask\n",
    "    counter = 0\n",
    "    imp_final_mask = np.zeros(len(cards), dtype=bool)\n",
    "    for i, c in enumerate(cards):\n",
    "        imp_final_mask[i] = np.sum(f_important_mask[counter:counter + c]) > 0\n",
    "        counter += c\n",
    "\n",
    "    per_subplot_kw = { \n",
    "        'original': {\n",
    "            'frame_on': False,\n",
    "            'xticks': [],\n",
    "            'yticks': [],\n",
    "            'title': 'Example',\n",
    "            'xlabel': get_formatted_labels(C, imp_final_mask),\n",
    "        },\n",
    "        'importance': {\n",
    "            'title': 'Concepts importance',\n",
    "            'ylabel': 'Importance score',\n",
    "        }\n",
    "    }\n",
    "    fig, axes = plt.subplot_mosaic([['.', '.'], ['original', 'importance'], ['.', '.']], per_subplot_kw=per_subplot_kw, figsize=(10, 10), dpi=150,\n",
    "                                  width_ratios=[1, 2], height_ratios=[1, 1, 1])\n",
    "    axes['original'].imshow(swap_ch(X), cmap=cmap)\n",
    "    axes['importance'].bar([f'$c_{i}$' for i in range(1, I.shape[0] + 1)], I, zorder=100)\n",
    "    axes['importance'].grid(zorder=-100)\n",
    "    fig.set_layout_engine('tight')"
   ]
  },
  {
   "cell_type": "markdown",
   "metadata": {},
   "source": [
    "The important outcome (according to the vector `b` of the Weibull distribution parameters) is marked as bold under the picture."
   ]
  },
  {
   "cell_type": "code",
   "execution_count": 7,
   "metadata": {},
   "outputs": [
    {
     "data": {
      "image/png": "[encoded data removed]",
      "text/plain": [
       "<Figure size 1500x1500 with 2 Axes>"
      ]
     },
     "metadata": {},
     "output_type": "display_data"
    }
   ],
   "source": [
    "importance = model.get_importance(X_test, top_k=40)\n",
    "cmap = 'grey'\n",
    "test_id = 0\n",
    "draw_importance(X_test[test_id],\n",
    "                c_labels[test_id],\n",
    "                importance[test_id],\n",
    "                model.c_cards,\n",
    "                b < 0,\n",
    "                cmap)"
   ]
  },
  {
   "cell_type": "markdown",
   "metadata": {},
   "source": [
    "Now let's do the same using the Cox estimator."
   ]
  },
  {
   "cell_type": "code",
   "execution_count": 8,
   "metadata": {},
   "outputs": [
    {
     "name": "stderr",
     "output_type": "stream",
     "text": [
      "Epoch 1: 100%|##########| 19/19 [00:01<00:00, 16.84task/s, Loss=28.6, Surv=-107, CE=[2.210526315789474, 2.257894736842106, 2.3, 2.2526315789473688]]                \n"
     ]
    },
    {
     "name": "stdout",
     "output_type": "stream",
     "text": [
      "Val C-index: 0.59591, patience: 0\n"
     ]
    },
    {
     "name": "stderr",
     "output_type": "stream",
     "text": [
      "Epoch 2: 100%|##########| 19/19 [00:00<00:00, 20.72task/s, Loss=25.7, Surv=-106, CE=[1.1421052631578943, 1.4631578947368422, 1.6000000000000003, 1.5105263157894737]]\n"
     ]
    },
    {
     "name": "stdout",
     "output_type": "stream",
     "text": [
      "Val C-index: 0.64546, patience: 0\n"
     ]
    },
    {
     "name": "stderr",
     "output_type": "stream",
     "text": [
      "Epoch 3: 100%|##########| 19/19 [00:00<00:00, 20.88task/s, Loss=23.9, Surv=-105, CE=[0.6473684210526316, 0.9736842105263158, 0.8947368421052632, 0.994736842105263]] \n"
     ]
    },
    {
     "name": "stdout",
     "output_type": "stream",
     "text": [
      "Val C-index: 0.68066, patience: 0\n"
     ]
    },
    {
     "name": "stderr",
     "output_type": "stream",
     "text": [
      "Epoch 4: 100%|##########| 19/19 [00:00<00:00, 20.89task/s, Loss=22.9, Surv=-105, CE=[0.46315789473684205, 0.7105263157894737, 0.6210526315789472, 0.7105263157894737]]\n"
     ]
    },
    {
     "name": "stdout",
     "output_type": "stream",
     "text": [
      "Val C-index: 0.68699, patience: 0\n"
     ]
    },
    {
     "name": "stderr",
     "output_type": "stream",
     "text": [
      "Epoch 5: 100%|##########| 19/19 [00:00<00:00, 21.43task/s, Loss=22.3, Surv=-103, CE=[0.38421052631578945, 0.5736842105263157, 0.5368421052631579, 0.5631578947368422]]\n"
     ]
    },
    {
     "name": "stdout",
     "output_type": "stream",
     "text": [
      "Val C-index: 0.70708, patience: 0\n"
     ]
    },
    {
     "name": "stderr",
     "output_type": "stream",
     "text": [
      "Epoch 6: 100%|##########| 19/19 [00:00<00:00, 20.42task/s, Loss=21.7, Surv=-102, CE=[0.28421052631578947, 0.37894736842105264, 0.3947368421052631, 0.431578947368421]]   \n"
     ]
    },
    {
     "name": "stdout",
     "output_type": "stream",
     "text": [
      "Val C-index: 0.72732, patience: 0\n"
     ]
    },
    {
     "name": "stderr",
     "output_type": "stream",
     "text": [
      "Epoch 7: 100%|##########| 19/19 [00:00<00:00, 20.84task/s, Loss=21.4, Surv=-102, CE=[0.2947368421052631, 0.30526315789473685, 0.3315789473684211, 0.34736842105263166]] \n"
     ]
    },
    {
     "name": "stdout",
     "output_type": "stream",
     "text": [
      "Val C-index: 0.7305, patience: 0\n"
     ]
    },
    {
     "name": "stderr",
     "output_type": "stream",
     "text": [
      "Epoch 8: 100%|##########| 19/19 [00:00<00:00, 21.73task/s, Loss=21.2, Surv=-101, CE=[0.24736842105263154, 0.2578947368421053, 0.30526315789473685, 0.3842105263157895]]\n"
     ]
    },
    {
     "name": "stdout",
     "output_type": "stream",
     "text": [
      "Val C-index: 0.7456, patience: 0\n"
     ]
    },
    {
     "name": "stderr",
     "output_type": "stream",
     "text": [
      "Epoch 9: 100%|##########| 19/19 [00:00<00:00, 21.72task/s, Loss=20.9, Surv=-101, CE=[0.1789473684210527, 0.2315789473684211, 0.2473684210526316, 0.3263157894736842]]   \n"
     ]
    },
    {
     "name": "stdout",
     "output_type": "stream",
     "text": [
      "Val C-index: 0.75334, patience: 0\n"
     ]
    },
    {
     "name": "stderr",
     "output_type": "stream",
     "text": [
      "Epoch 10: 100%|##########| 19/19 [00:00<00:00, 21.24task/s, Loss=20.6, Surv=-100, CE=[0.1578947368421053, 0.1789473684210527, 0.21578947368421056, 0.20526315789473687]]   \n"
     ]
    },
    {
     "name": "stdout",
     "output_type": "stream",
     "text": [
      "Val C-index: 0.76152, patience: 0\n"
     ]
    },
    {
     "name": "stderr",
     "output_type": "stream",
     "text": [
      "Epoch 11: 100%|##########| 19/19 [00:00<00:00, 21.55task/s, Loss=20.5, Surv=-99.5, CE=[0.16315789473684217, 0.14210526315789476, 0.20526315789473687, 0.25263157894736843]]\n"
     ]
    },
    {
     "name": "stdout",
     "output_type": "stream",
     "text": [
      "Val C-index: 0.7685, patience: 0\n"
     ]
    },
    {
     "name": "stderr",
     "output_type": "stream",
     "text": [
      "Epoch 12: 100%|##########| 19/19 [00:00<00:00, 21.44task/s, Loss=20.3, Surv=-99, CE=[0.06842105263157895, 0.12631578947368424, 0.16315789473684217, 0.21578947368421056]]  \n"
     ]
    },
    {
     "name": "stdout",
     "output_type": "stream",
     "text": [
      "Val C-index: 0.77429, patience: 0\n"
     ]
    },
    {
     "name": "stderr",
     "output_type": "stream",
     "text": [
      "Epoch 13: 100%|##########| 19/19 [00:00<00:00, 21.19task/s, Loss=20, Surv=-97.7, CE=[0.08947368421052633, 0.08947368421052633, 0.14736842105263157, 0.2000000000000001]]   \n"
     ]
    },
    {
     "name": "stdout",
     "output_type": "stream",
     "text": [
      "Val C-index: 0.77213, patience: 1\n"
     ]
    },
    {
     "name": "stderr",
     "output_type": "stream",
     "text": [
      "Epoch 14: 100%|##########| 19/19 [00:00<00:00, 21.78task/s, Loss=19.9, Surv=-97.4, CE=[0.09473684210526316, 0.11052631578947371, 0.1578947368421053, 0.18947368421052638]] \n"
     ]
    },
    {
     "name": "stdout",
     "output_type": "stream",
     "text": [
      "Val C-index: 0.78237, patience: 0\n"
     ]
    },
    {
     "name": "stderr",
     "output_type": "stream",
     "text": [
      "Epoch 15: 100%|##########| 19/19 [00:00<00:00, 21.70task/s, Loss=19.8, Surv=-97.5, CE=[0.0736842105263158, 0.08947368421052636, 0.12105263157894738, 0.13684210526315796]]\n"
     ]
    },
    {
     "name": "stdout",
     "output_type": "stream",
     "text": [
      "Val C-index: 0.78471, patience: 0\n"
     ]
    },
    {
     "name": "stderr",
     "output_type": "stream",
     "text": [
      "Epoch 16: 100%|##########| 19/19 [00:00<00:00, 21.75task/s, Loss=19.6, Surv=-96.2, CE=[0.07894736842105264, 0.07368421052631578, 0.1578947368421053, 0.14736842105263165]]\n"
     ]
    },
    {
     "name": "stdout",
     "output_type": "stream",
     "text": [
      "Val C-index: 0.78531, patience: 0\n"
     ]
    },
    {
     "name": "stderr",
     "output_type": "stream",
     "text": [
      "Epoch 17: 100%|##########| 19/19 [00:00<00:00, 20.92task/s, Loss=19.6, Surv=-96.1, CE=[0.06315789473684211, 0.12631578947368424, 0.16315789473684217, 0.13684210526315793]]\n"
     ]
    },
    {
     "name": "stdout",
     "output_type": "stream",
     "text": [
      "Val C-index: 0.77911, patience: 1\n"
     ]
    },
    {
     "name": "stderr",
     "output_type": "stream",
     "text": [
      "Epoch 18: 100%|##########| 19/19 [00:00<00:00, 21.72task/s, Loss=19.5, Surv=-95.6, CE=[0.0736842105263158, 0.12631578947368424, 0.11578947368421054, 0.12105263157894741]] \n"
     ]
    },
    {
     "name": "stdout",
     "output_type": "stream",
     "text": [
      "Val C-index: 0.79032, patience: 0\n"
     ]
    },
    {
     "name": "stderr",
     "output_type": "stream",
     "text": [
      "Epoch 19: 100%|##########| 19/19 [00:00<00:00, 20.87task/s, Loss=19.4, Surv=-94.9, CE=[0.1, 0.08421052631578947, 0.1368421052631579, 0.18947368421052632]]                 \n"
     ]
    },
    {
     "name": "stdout",
     "output_type": "stream",
     "text": [
      "Val C-index: 0.78675, patience: 1\n"
     ]
    },
    {
     "name": "stderr",
     "output_type": "stream",
     "text": [
      "Epoch 20: 100%|##########| 19/19 [00:00<00:00, 20.90task/s, Loss=19.4, Surv=-94.9, CE=[0.0736842105263158, 0.05263157894736842, 0.1736842105263158, 0.2052631578947369]]    \n"
     ]
    },
    {
     "name": "stdout",
     "output_type": "stream",
     "text": [
      "Val C-index: 0.7826, patience: 2\n",
      "Training time: 20.7 s.\n"
     ]
    }
   ],
   "source": [
    "params = {\n",
    "    'surv_model': 'cox',\n",
    "    'surv_loss': 'likelihood',\n",
    "    'alpha': 0.2,\n",
    "    'batch_num': 64,\n",
    "    'cox_base': 'breslow',\n",
    "    'cox_logits': False,\n",
    "    'cox_bias': False,\n",
    "    'nn_model': torch.nn.Sequential(\n",
    "            torch.nn.Conv2d(1, 16, (16, 16), stride=1),\n",
    "            torch.nn.LeakyReLU(),\n",
    "            torch.nn.Conv2d(16, 16, (8, 8), stride=2),\n",
    "            torch.nn.LeakyReLU(),\n",
    "            torch.nn.Conv2d(16, 32, (6, 6), stride=2),\n",
    "            torch.nn.LeakyReLU(),\n",
    "            torch.nn.Conv2d(32, 32, (4, 4), stride=1),\n",
    "            torch.nn.LeakyReLU(),\n",
    "            torch.nn.Flatten(),\n",
    "            torch.nn.Linear(288, 256),\n",
    "        ),\n",
    "    'nn_model_out_dim': 256,\n",
    "    'device': 'mps',\n",
    "    'epochs': 20,\n",
    "    'patience': 10,\n",
    "    'optimizer': 'AdamW',\n",
    "    'optimizer_kw': {'lr': 1e-3, 'weight_decay': 0},\n",
    "}\n",
    "model = SurvBN(**params)\n",
    "model.fit(*train_set, val_set);"
   ]
  },
  {
   "cell_type": "code",
   "execution_count": 9,
   "metadata": {},
   "outputs": [
    {
     "name": "stdout",
     "output_type": "stream",
     "text": [
      "C-index of the model: 0.7779902343156423\n",
      "Accuracy for concept 0: 0.8933333333333333\n",
      "Accuracy for concept 1: 0.8841666666666667\n",
      "Accuracy for concept 2: 0.87\n",
      "Accuracy for concept 3: 0.865\n"
     ]
    }
   ],
   "source": [
    "print('C-index of the model:', model.score(X_test, y_test))\n",
    "_, c_probas = model.predict(X_test)\n",
    "c_labels_list = []\n",
    "for i, c in enumerate(c_probas):\n",
    "    c_labels_cur = np.argmax(c, axis=-1)\n",
    "    print(f'Accuracy for concept {i}:', accuracy_score(c_test[:, i], c_labels_cur))\n",
    "    c_labels_list.append(c_labels_cur)\n",
    "c_labels = np.stack(c_labels_list, axis=-1)"
   ]
  },
  {
   "cell_type": "code",
   "execution_count": null,
   "metadata": {},
   "outputs": [
    {
     "data": {
      "image/png": "[encoded data removed]",
      "text/plain": [
       "<Figure size 1500x1500 with 2 Axes>"
      ]
     },
     "metadata": {},
     "output_type": "display_data"
    }
   ],
   "source": [
    "importance = model.get_importance(X_test)\n",
    "cmap = 'grey'\n",
    "test_id = 0\n",
    "draw_importance(X_test[test_id],\n",
    "                c_labels[test_id],\n",
    "                importance[test_id],\n",
    "                model.c_cards,\n",
    "                b < 0,\n",
    "                cmap)"
   ]
  },
  {
   "cell_type": "markdown",
   "metadata": {},
   "source": [
    "Another model, Survival Regularized Concept-based Model, has similar interface and is able to do only the survival regression task, without the explanation. "
   ]
  }
 ],
 "metadata": {
  "kernelspec": {
   "display_name": "default",
   "language": "python",
   "name": "python3"
  },
  "language_info": {
   "codemirror_mode": {
    "name": "ipython",
    "version": 3
   },
   "file_extension": ".py",
   "mimetype": "text/x-python",
   "name": "python",
   "nbconvert_exporter": "python",
   "pygments_lexer": "ipython3",
   "version": "3.13.2"
  }
 },
 "nbformat": 4,
 "nbformat_minor": 2
}
